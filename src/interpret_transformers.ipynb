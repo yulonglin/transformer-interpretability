{
 "cells": [
  {
   "cell_type": "code",
   "execution_count": 2,
   "metadata": {},
   "outputs": [],
   "source": [
    "import json\n",
    "import transformers\n",
    "import torch\n",
    "import einops\n",
    "import matplotlib.pyplot as plt\n",
    "import math\n",
    "\n",
    "import minigpt\n",
    "\n",
    "\n",
    "model = minigpt.get_minigpt(\"model.pt\")\n",
    "tokenizer = transformers.GPT2Tokenizer.from_pretrained(\"gpt2\")\n",
    "tokenizer._add_tokens([\"[BEGIN]\", \"[END]\"])\n",
    "tokenizer.pad_token = \"[END]\"\n",
    "tokenizer.eos_token = \"[END]\""
   ]
  },
  {
   "cell_type": "markdown",
   "metadata": {},
   "source": [
    "Let us take a look at the model. It is a mini GPT with 2 transformer blocks, without non-linearities to make it simpler to interpret."
   ]
  },
  {
   "cell_type": "code",
   "execution_count": 3,
   "metadata": {},
   "outputs": [
    {
     "data": {
      "text/plain": [
       "MiniGPT(\n",
       "  (token_embedding): Embedding(50259, 256)\n",
       "  (pos_embedding): Embedding(512, 256)\n",
       "  (blocks): Sequential(\n",
       "    (0): UniAttention(\n",
       "      (project_qkv): Linear(in_features=256, out_features=768, bias=False)\n",
       "      (project_output): Linear(in_features=256, out_features=256, bias=False)\n",
       "    )\n",
       "    (1): UniAttention(\n",
       "      (project_qkv): Linear(in_features=256, out_features=768, bias=False)\n",
       "      (project_output): Linear(in_features=256, out_features=256, bias=False)\n",
       "    )\n",
       "  )\n",
       ")"
      ]
     },
     "execution_count": 3,
     "metadata": {},
     "output_type": "execute_result"
    }
   ],
   "source": [
    "model"
   ]
  },
  {
   "cell_type": "markdown",
   "metadata": {},
   "source": [
    "For a particular head, we try computing the attention terms, separated into token-token, token-position, position-token, position-position terms (in order). We observe that:\n",
    "\n",
    "* position-position terms have the largest magnitude and seem to be the most important\n",
    "* In layer 0 head 0, the query pays attention to keys from previous position index (from the diagonal i+1, i), thus doing a shift-by-1 behavior\n",
    "* In layer 1 head 4 (an induction head), the query pays attention to the token in the first position"
   ]
  },
  {
   "attachments": {
    "e1e10545-fa88-401e-a212-3204fae86dbf.png": {
     "image/png": "[encoded data removed]"
    },
    "f596334c-27d4-4e2c-9499-0b4544eb491c.png": {
     "image/png": "[encoded data removed]"
    }
   },
   "cell_type": "markdown",
   "metadata": {},
   "source": [
    "Layer 0 head 0 attentions\n",
    "\n",
    "![image.png](attachment:f596334c-27d4-4e2c-9499-0b4544eb491c.png)\n",
    "\n",
    "\n",
    "Layer 1 head 4 attentions\n",
    "\n",
    "![image.png](attachment:e1e10545-fa88-401e-a212-3204fae86dbf.png)"
   ]
  },
  {
   "cell_type": "code",
   "execution_count": 23,
   "metadata": {},
   "outputs": [
    {
     "name": "stdout",
     "output_type": "stream",
     "text": [
      "tokenizer.decode([tokens[0][7], tokens[0][2]])=' We dog'\n"
     ]
    }
   ],
   "source": [
    "def compute_attention_terms(sentence, layer, head):\n",
    "    \"\"\"Input of shape: batch_size seq_len\"\"\"\n",
    "    token_embedding = model.token_embedding(sentence)\n",
    "    \n",
    "    # Get the positions, then index into the position embedding\n",
    "    seq_len = sentence.shape[1]\n",
    "    pos_inds = torch.arange(seq_len).unsqueeze(0)\n",
    "    pos_embedding = model.pos_embedding(pos_inds)\n",
    "        \n",
    "    aggregated = 0\n",
    "    \n",
    "    for l in range(layer):\n",
    "        token_embedding += model.blocks[l](token_embedding, model.pos_embedding)\n",
    "    \n",
    "    for query_embedding in (token_embedding, pos_embedding):\n",
    "        for key_embedding in (token_embedding, pos_embedding):\n",
    "            query = model.blocks[layer].project_qkv(query_embedding)[:, :, :256]\n",
    "            key = model.blocks[layer].project_qkv(key_embedding)[:, :, 256:512]\n",
    "\n",
    "            # reshape\n",
    "            num_heads = 8\n",
    "            query = einops.rearrange(query, 'batch seq_len (num_heads head_size) -> batch num_heads seq_len head_size', num_heads=num_heads)\n",
    "            key = einops.rearrange(key, 'batch seq_len (num_heads head_size) -> batch num_heads seq_len head_size', num_heads=num_heads)\n",
    "            \n",
    "            # Extract the desired Q and K matrices\n",
    "            # Each matrix: seq_len, hidden size\n",
    "            result = torch.einsum('b h q c, b h k c -> b h q k', query, key)\n",
    "            # Want to get embedding1 in Q space, and embedding2 in K space\n",
    "            \n",
    "            result = result[0][head] # head 0\n",
    "            result = torch.tril(result)\n",
    "\n",
    "            print('shape:', result.shape)\n",
    "            # print('mean:', torch.mean(result).detach())\n",
    "            # Compute variance across token pairs\n",
    "            # print('var:', torch.var(result, unbiased=False).detach().item())\n",
    "            \n",
    "            for y in range(10):\n",
    "                l = []\n",
    "                for x in range(10):\n",
    "                    l.append(f'{result[y, x].item():8.2}')\n",
    "                # print(' '.join(l))\n",
    "            print(plt.imshow(torch.nn.Softmax(dim=-1)(result)[:,:].detach()))\n",
    "            plt.show()\n",
    "            \n",
    "            print()\n",
    "            aggregated += result\n",
    "    print('aggregated')\n",
    "    print('shape:', aggregated.shape)\n",
    "    print('mean:', torch.mean(aggregated).detach())\n",
    "    # Compute variance across token pairs\n",
    "    print('var:', torch.var(aggregated, unbiased=False).detach().item())\n",
    "    plt.imshow(torch.nn.Softmax(dim=-1)(aggregated)[:,:].detach())\n",
    "    plt.show()\n",
    "    \n",
    "    # TODO: Compute variance across sentences (i.e. across the batch)\n",
    "    \n",
    "sentences = ['''[BEGIN] We dog eating ice cream. We dog in the park. We dog playing basketball. We dog throwing a baseball. We dog learning about machine learning. We dog trying to debug. We dog confused. We dog playing with the visualizer.''']\n",
    "tokens = tokenizer(sentences)['input_ids']\n",
    "print(f\"{tokenizer.decode([tokens[0][7], tokens[0][2]])=}\")"
   ]
  },
  {
   "cell_type": "code",
   "execution_count": 24,
   "metadata": {},
   "outputs": [
    {
     "name": "stdout",
     "output_type": "stream",
     "text": [
      "shape: torch.Size([49, 49])\n",
      "AxesImage(54,36;334.8x217.44)\n"
     ]
    },
    {
     "data": {
      "image/png": "[encoded data removed]",
      "text/plain": [
       "<Figure size 432x288 with 1 Axes>"
      ]
     },
     "metadata": {
      "needs_background": "light"
     },
     "output_type": "display_data"
    },
    {
     "name": "stdout",
     "output_type": "stream",
     "text": [
      "\n",
      "shape: torch.Size([49, 49])\n",
      "AxesImage(54,36;334.8x217.44)\n"
     ]
    },
    {
     "data": {
      "image/png": "[encoded data removed]",
      "text/plain": [
       "<Figure size 432x288 with 1 Axes>"
      ]
     },
     "metadata": {
      "needs_background": "light"
     },
     "output_type": "display_data"
    },
    {
     "name": "stdout",
     "output_type": "stream",
     "text": [
      "\n",
      "shape: torch.Size([49, 49])\n",
      "AxesImage(54,36;334.8x217.44)\n"
     ]
    },
    {
     "data": {
      "image/png": "[encoded data removed]",
      "text/plain": [
       "<Figure size 432x288 with 1 Axes>"
      ]
     },
     "metadata": {
      "needs_background": "light"
     },
     "output_type": "display_data"
    },
    {
     "name": "stdout",
     "output_type": "stream",
     "text": [
      "\n",
      "shape: torch.Size([49, 49])\n",
      "AxesImage(54,36;334.8x217.44)\n"
     ]
    },
    {
     "data": {
      "image/png": "[encoded data removed]",
      "text/plain": [
       "<Figure size 432x288 with 1 Axes>"
      ]
     },
     "metadata": {
      "needs_background": "light"
     },
     "output_type": "display_data"
    },
    {
     "name": "stdout",
     "output_type": "stream",
     "text": [
      "\n",
      "aggregated\n",
      "shape: torch.Size([49, 49])\n",
      "mean: tensor(-5.5161)\n",
      "var: 240.6231689453125\n"
     ]
    },
    {
     "data": {
      "image/png": "[encoded data removed]",
      "text/plain": [
       "<Figure size 432x288 with 1 Axes>"
      ]
     },
     "metadata": {
      "needs_background": "light"
     },
     "output_type": "display_data"
    }
   ],
   "source": [
    "compute_attention_terms(torch.tensor(tokens, dtype=torch.long), layer=0, head=0)\n",
    "\n",
    "# Are the position most interested in those that are at index one more than the key?"
   ]
  },
  {
   "cell_type": "code",
   "execution_count": 25,
   "metadata": {},
   "outputs": [
    {
     "name": "stdout",
     "output_type": "stream",
     "text": [
      "shape: torch.Size([49, 49])\n",
      "AxesImage(54,36;334.8x217.44)\n"
     ]
    },
    {
     "data": {
      "image/png": "[encoded data removed]",
      "text/plain": [
       "<Figure size 432x288 with 1 Axes>"
      ]
     },
     "metadata": {
      "needs_background": "light"
     },
     "output_type": "display_data"
    },
    {
     "name": "stdout",
     "output_type": "stream",
     "text": [
      "\n",
      "shape: torch.Size([49, 49])\n",
      "AxesImage(54,36;334.8x217.44)\n"
     ]
    },
    {
     "data": {
      "image/png": "[encoded data removed]",
      "text/plain": [
       "<Figure size 432x288 with 1 Axes>"
      ]
     },
     "metadata": {
      "needs_background": "light"
     },
     "output_type": "display_data"
    },
    {
     "name": "stdout",
     "output_type": "stream",
     "text": [
      "\n",
      "shape: torch.Size([49, 49])\n",
      "AxesImage(54,36;334.8x217.44)\n"
     ]
    },
    {
     "data": {
      "image/png": "[encoded data removed]",
      "text/plain": [
       "<Figure size 432x288 with 1 Axes>"
      ]
     },
     "metadata": {
      "needs_background": "light"
     },
     "output_type": "display_data"
    },
    {
     "name": "stdout",
     "output_type": "stream",
     "text": [
      "\n",
      "shape: torch.Size([49, 49])\n",
      "AxesImage(54,36;334.8x217.44)\n"
     ]
    },
    {
     "data": {
      "image/png": "[encoded data removed]",
      "text/plain": [
       "<Figure size 432x288 with 1 Axes>"
      ]
     },
     "metadata": {
      "needs_background": "light"
     },
     "output_type": "display_data"
    },
    {
     "name": "stdout",
     "output_type": "stream",
     "text": [
      "\n",
      "aggregated\n",
      "shape: torch.Size([49, 49])\n",
      "mean: tensor(-0.4866)\n",
      "var: 63.597373962402344\n"
     ]
    },
    {
     "data": {
      "image/png": "[encoded data removed]",
      "text/plain": [
       "<Figure size 432x288 with 1 Axes>"
      ]
     },
     "metadata": {
      "needs_background": "light"
     },
     "output_type": "display_data"
    }
   ],
   "source": [
    "compute_attention_terms(torch.tensor(tokens, dtype=torch.long), layer=1, head=4)\n",
    "\n",
    "# Are the position most interested in those that are at index one more than the key?"
   ]
  },
  {
   "cell_type": "markdown",
   "metadata": {},
   "source": [
    "We also attempt to observe virtual heads, which are possible due to the residual stream in transformers. We observe that for queries \"We\", a lot of attention is paid to the previous instances of tokens that have appeared after \"We\" (i.e. dog).\n",
    "\n",
    "The query \"We\" (in **bold**) pays attention to the key tokens \"dog\" (***italicized and in bold***):\n",
    "> \"[BEGIN] We ***dog*** eating ice cream. We ***dog*** in the park. We ***dog*** playing basketball. We ***dog*** throwing a baseball. **We** dog learning about machine learning. We dog trying to debug. We dog confused. We dog playing with the visualizer.\""
   ]
  },
  {
   "attachments": {
    "1b925251-f51b-470b-b583-ac2cd6b1375c.png": {
     "image/png": "[encoded data removed]"
    }
   },
   "cell_type": "markdown",
   "metadata": {},
   "source": [
    "![image.png](attachment:1b925251-f51b-470b-b583-ac2cd6b1375c.png)"
   ]
  },
  {
   "cell_type": "code",
   "execution_count": 13,
   "metadata": {},
   "outputs": [],
   "source": [
    "def virtual_head(tokens, layer0_head_idx, layer1_head_idx, model):\n",
    "    # embedding.shape = [batch, seq_len, hidden_size]\n",
    "    # precompute the attention matrices\n",
    "    # A = softmax(((emb * Q)^T * K * emb) / sqrt(d))\n",
    "    \n",
    "    def get_attention_and_ov_matrix(token_emb, layer, head_idx):\n",
    "        \n",
    "        pos_ids = torch.arange(token_emb.shape[1]).unsqueeze(0)\n",
    "        emb = model.pos_embedding(pos_ids) + token_emb\n",
    "        query = model.blocks[layer].project_qkv(emb)[:, :, :256]\n",
    "        key = model.blocks[layer].project_qkv(emb)[:, :, 256:512]\n",
    "        # val = model.blocks[layer].project_qkv(emb)[:, :, 512:]\n",
    "        \n",
    "        # reshape\n",
    "        num_heads = 8\n",
    "        query = einops.rearrange(query, 'batch seq_len (num_heads head_size) -> batch num_heads seq_len head_size', num_heads=num_heads)\n",
    "        key = einops.rearrange(key, 'batch seq_len (num_heads head_size) -> batch num_heads seq_len head_size', num_heads=num_heads)\n",
    "        # val = einops.rearrange(val, 'batch seq_len (num_heads head_size) -> batch num_heads seq_len head_size', num_heads=num_heads)\n",
    "\n",
    "        attn = torch.einsum('b h q c, b h k c -> b h q k', query, key)\n",
    "        # Want to get embedding1 in Q space, and embedding2 in K space\n",
    "\n",
    "        attn = attn[0][head_idx] # batch 0\n",
    "\n",
    "        seq_len = emb.shape[1] # (batch, seq, hidden_size)\n",
    "        mask = torch.tensor(torch.triu(torch.ones(seq_len, seq_len), diagonal=1), dtype=torch.bool)\n",
    "        attn[mask] = -1000000\n",
    "        attn /= math.sqrt(query.shape[-1])\n",
    "        # For each query, we have a probability distribution over keys\n",
    "        attn = torch.nn.Softmax(dim=-1)(attn)\n",
    "        \n",
    "        ## get ov ###\n",
    "        # project_qkv.weight should be a 768x768 matrix (hidden_size=768)\n",
    "        print(model.blocks[layer].project_qkv.weight.shape)\n",
    "        # ... V\n",
    "        val_mat = model.blocks[layer].project_qkv.weight[512:,:]\n",
    "        print(val_mat.shape)\n",
    "        val_mat = einops.rearrange(val_mat, '(num_heads head_size) hidden_size -> num_heads hidden_size head_size', num_heads=num_heads)\n",
    "        \n",
    "        print(val_mat.shape)\n",
    "        val_mat = val_mat[head_idx]  # now shape = (hidden_size, head_size)\n",
    "        print(val_mat.shape)\n",
    "        head_size = 256//num_heads\n",
    "        output = model.blocks[layer].project_output.weight[:, head_size*head_idx:head_size*(head_idx+1)]\n",
    "        output = einops.rearrange(output, 'hidden_size head_size -> head_size hidden_size')\n",
    "        # val_head: hidden_size head_size\n",
    "        # output: head_size, hidden_size??\n",
    "        # softmax(...)V W_O\n",
    "        ov = val_mat @ output\n",
    "        \n",
    "        # OV emb\n",
    "        return attn, ov\n",
    "    \n",
    "    ##### lAYER 0 ######\n",
    "    token_embedding = model.token_embedding(tokens)\n",
    "    attn0, ov0 = get_attention_and_ov_matrix(token_embedding, 0, layer0_head_idx)\n",
    "    # (seq_len seq_len), (seq_len, hidden_size)\n",
    "    \n",
    "    ##### LAYER 1 ######\n",
    "    emb = token_embedding + model.blocks[0](token_embedding, model.pos_embedding)\n",
    "    attn1, ov1 = get_attention_and_ov_matrix(emb, 1, layer1_head_idx)\n",
    "    plt.imshow(attn0.detach())\n",
    "    plt.show()\n",
    "    plt.imshow(attn1.detach())\n",
    "\n",
    "    # token_embedding: batch_size, seq_len, embedding_size (probs hidden_size?)\n",
    "    # attn0: seq_len, seq_len\n",
    "    # ov0: hidden_size, hidden_size=c\n",
    "    emb1 = torch.einsum('b k c, q k, c d -> b q d', token_embedding, attn0, ov0)\n",
    "    emb2 = torch.einsum('b k c, q k, c d -> b q d ', emb1+token_embedding, attn1, ov1)\n",
    "    # We want: seq_len, hidden_size\n",
    "    logits = torch.einsum('bnl, vl -> bnv', emb2, model.token_embedding.weight)\n",
    "    # multiply by the relevant model_weights, and the embedding to get the vocab logits\n",
    "    _, tokens = torch.topk(logits, k=10, dim=-1)\n",
    "    # We want: seq_len, vocab_size for each pair of heads\n",
    "    return [(i, x) for i, x in enumerate(tokenizer.batch_decode(tokens[0]))]"
   ]
  },
  {
   "cell_type": "code",
   "execution_count": 14,
   "metadata": {},
   "outputs": [
    {
     "name": "stdout",
     "output_type": "stream",
     "text": [
      "[BEGIN] We dog eating ice cream. We dog in the park. We dog playing basketball. We dog throwing a baseball. We dog learning about machine learning. We dog trying to debug. We dog confused. We dog playing with the visualizer.\n"
     ]
    },
    {
     "name": "stderr",
     "output_type": "stream",
     "text": [
      "/tmp/ipykernel_4052714/3985420985.py:26: UserWarning: To copy construct from a tensor, it is recommended to use sourceTensor.clone().detach() or sourceTensor.clone().detach().requires_grad_(True), rather than torch.tensor(sourceTensor).\n",
      "  mask = torch.tensor(torch.triu(torch.ones(seq_len, seq_len), diagonal=1), dtype=torch.bool)\n"
     ]
    },
    {
     "name": "stdout",
     "output_type": "stream",
     "text": [
      "torch.Size([768, 256])\n",
      "torch.Size([256, 256])\n",
      "torch.Size([8, 256, 32])\n",
      "torch.Size([256, 32])\n",
      "torch.Size([768, 256])\n",
      "torch.Size([256, 256])\n",
      "torch.Size([8, 256, 32])\n",
      "torch.Size([256, 32])\n"
     ]
    },
    {
     "data": {
      "image/png": "[encoded data removed]",
      "text/plain": [
       "<Figure size 432x288 with 1 Axes>"
      ]
     },
     "metadata": {
      "needs_background": "light"
     },
     "output_type": "display_data"
    },
    {
     "data": {
      "text/plain": [
       "[(0, 'ationalmitteddaybornNovemberweightarbonnik Mandatoryachy'),\n",
       " (1, 'ationalborndayNovembermittedarbonweight Mandatorygennik'),\n",
       " (2, 'ationaldaymittedbornNovemberweightarbon Mandatorynikachy'),\n",
       " (3, 'day Earlyational Bynikmitted LateweightEarly Modern'),\n",
       " (4, ' Early Modern By Lateday Nevertheless MichaelnikEarlyational'),\n",
       " (5,\n",
       "  ' November Federal October January Decemberachy Nevertheless Late Courtbo'),\n",
       " (6, 'WewebornyoubefiWashingtonnewReutersOur'),\n",
       " (7, ' dog Dog Progressivept Teen Marshal Michael Modern child pet'),\n",
       " (8,\n",
       "  ' eating owning buying Wo ticking esche Eating earning skipping recovering'),\n",
       " (9, ' MichaelReutersbornWashingtonday Latecomweight EarlyOctober'),\n",
       " (10, ' MichaeldayReuters ProgressiveachyWashington Modernborn Lateweight'),\n",
       " (11, 'borndayNovemberReutersationalweightOctoberAFPWashingtoncom'),\n",
       " (12, 'WeweGurepguyouOurIntroduinfgre'),\n",
       " (13, ' dog Dog pet nat MarshalDog quad dogs canine detective'),\n",
       " (14,\n",
       "  ' eating recovering storing occupying esche ate buying skipping owning ticking'),\n",
       " (15, ' ice court snow Beast sheet Kal October bed pink Moto'),\n",
       " (16,\n",
       "  ' November October January December April September dawnOctober Federal August'),\n",
       " (17, 'WeweGurep WegugreGreIntroduFeel'),\n",
       " (18, ' dog Dog pet stret nat dogs quadDog bug canine'),\n",
       " (19,\n",
       "  ' eatingReading performing playing recoveringWATCHShape organizing eats dying'),\n",
       " (20, ' court ice Beast Guant Mirage paper Ice snow Coff incoming'),\n",
       " (21, ' ice paper incoming snow gold Janet court classical Michael word'),\n",
       " (22, ' October November snow April dawn sworn late magic court gray'),\n",
       " (23, 'WeweGu WerepgreguGreIntroduFeel'),\n",
       " (24, ' dog Dog pet stret nat dogs bug quadDog canine'),\n",
       " (25,\n",
       "  ' esche eating recovering staging eats ate performing storingWATCH clearing'),\n",
       " (26, ' ice Jeff incoming paper a gold action word Michael charcoal'),\n",
       " (27,\n",
       "  ' charcoal linenSup wearingSIGN voluntary flaming antiquAncient shrouded'),\n",
       " (28,\n",
       "  ' recovering escheWATCH eating clearing skipping staging readingReading performing'),\n",
       " (29, ' aboutottenST 204ieri 41677 27ARA»'),\n",
       " (30, 'WeGuwe WeGregrerepguFeelIntrodu'),\n",
       " (31, ' dog Dog pet stret dogs nat bug quadDog canine'),\n",
       " (32,\n",
       "  ' esche recoveringWATCH staging eating clearing performing skipping exercising eats'),\n",
       " (33, 'FO metric about collects receivesables alarmFR than hire'),\n",
       " (34, ' dog pet Dog stret Marshal canine detective avid practice lun'),\n",
       " (35, ' incoming paperFRARA emergency ice committeeKN courtRAG'),\n",
       " (36, 'We WeGuweGregrerepFeelgu cyt'),\n",
       " (37, ' dog Dog pet stret dogs nat bug quadDog canine'),\n",
       " (38,\n",
       "  ' escheWATCH recovering exercising skipping clearing staging exiting optingSIGN'),\n",
       " (39, ' lun pet respond dog unpaid charcoal stret volunteer lav resp'),\n",
       " (40, 'We WeGuweGregrerepFeelgu Sinn'),\n",
       " (41, ' dog Dog pet stret dogs nat bug quad canineDog'),\n",
       " (42,\n",
       "  ' recovering esche exiting clearingSIGN skipping exercisingReading clicking jugg'),\n",
       " (43,\n",
       "  ' basketballRated magic baseball executionKN ceremonial blood court dust'),\n",
       " (44, ' pigeon machine DGCLE emergency charcoal traveller canine hogKN'),\n",
       " (45, ' lun petjew dog lav yoga Marshal witch pand rou'),\n",
       " (46, 'IJUTWASHINGTONWashingtonNEWFOUN JeffUSSONDON'),\n",
       " (47,\n",
       "  ' attend practicing recoveringSIGNReading become becoming return receiving returning'),\n",
       " (48, 'We WeGuwegreGrerep cyt Sinngu')]"
      ]
     },
     "execution_count": 14,
     "metadata": {},
     "output_type": "execute_result"
    },
    {
     "data": {
      "image/png": "[encoded data removed]",
      "text/plain": [
       "<Figure size 432x288 with 1 Axes>"
      ]
     },
     "metadata": {
      "needs_background": "light"
     },
     "output_type": "display_data"
    }
   ],
   "source": [
    "print(tokenizer.decode(tokens[0]))\n",
    "virtual_head(torch.tensor(tokens, dtype=torch.long), 0, 4, model)"
   ]
  },
  {
   "cell_type": "code",
   "execution_count": null,
   "metadata": {},
   "outputs": [],
   "source": []
  }
 ],
 "metadata": {
  "kernelspec": {
   "display_name": "Python 3 (ipykernel)",
   "language": "python",
   "name": "python3"
  },
  "language_info": {
   "codemirror_mode": {
    "name": "ipython",
    "version": 3
   },
   "file_extension": ".py",
   "mimetype": "text/x-python",
   "name": "python",
   "nbconvert_exporter": "python",
   "pygments_lexer": "ipython3",
   "version": "3.9.7"
  }
 },
 "nbformat": 4,
 "nbformat_minor": 4
}
